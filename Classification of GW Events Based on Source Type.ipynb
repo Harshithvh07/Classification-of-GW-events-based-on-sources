{
 "cells": [
  {
   "cell_type": "code",
   "execution_count": 1,
   "id": "85a942ae-633b-49d1-b3c2-f1ca82ccb8d1",
   "metadata": {},
   "outputs": [],
   "source": [
    "import pandas as pd\n",
    "import matplotlib.pyplot as plt\n",
    "import seaborn as sns\n",
    "from sklearn.model_selection import train_test_split\n",
    "import numpy as np"
   ]
  },
  {
   "cell_type": "code",
   "execution_count": 2,
   "id": "54df1d21-1f5b-43a6-b054-c20d2898925e",
   "metadata": {},
   "outputs": [
    {
     "name": "stdout",
     "output_type": "stream",
     "text": [
      "<class 'pandas.core.frame.DataFrame'>\n",
      "RangeIndex: 93 entries, 0 to 92\n",
      "Data columns (total 43 columns):\n",
      " #   Column                            Non-Null Count  Dtype  \n",
      "---  ------                            --------------  -----  \n",
      " 0   id                                93 non-null     object \n",
      " 1   commonName                        93 non-null     object \n",
      " 2   version                           93 non-null     int64  \n",
      " 3   catalog.shortName                 93 non-null     object \n",
      " 4   GPS                               93 non-null     float64\n",
      " 5   reference                         93 non-null     object \n",
      " 6   jsonurl                           93 non-null     object \n",
      " 7   mass_1_source                     90 non-null     float64\n",
      " 8   mass_1_source_lower               90 non-null     float64\n",
      " 9   mass_1_source_upper               90 non-null     float64\n",
      " 10  mass_2_source                     90 non-null     float64\n",
      " 11  mass_2_source_lower               90 non-null     float64\n",
      " 12  mass_2_source_upper               90 non-null     float64\n",
      " 13  network_matched_filter_snr        93 non-null     float64\n",
      " 14  network_matched_filter_snr_lower  85 non-null     float64\n",
      " 15  network_matched_filter_snr_upper  85 non-null     float64\n",
      " 16  luminosity_distance               90 non-null     float64\n",
      " 17  luminosity_distance_lower         90 non-null     float64\n",
      " 18  luminosity_distance_upper         90 non-null     float64\n",
      " 19  chi_eff                           90 non-null     float64\n",
      " 20  chi_eff_lower                     90 non-null     float64\n",
      " 21  chi_eff_upper                     90 non-null     float64\n",
      " 22  total_mass_source                 79 non-null     float64\n",
      " 23  total_mass_source_lower           79 non-null     float64\n",
      " 24  total_mass_source_upper           79 non-null     float64\n",
      " 25  chirp_mass_source                 90 non-null     float64\n",
      " 26  chirp_mass_source_lower           90 non-null     float64\n",
      " 27  chirp_mass_source_upper           90 non-null     float64\n",
      " 28  chirp_mass                        0 non-null      float64\n",
      " 29  chirp_mass_lower                  0 non-null      float64\n",
      " 30  chirp_mass_upper                  0 non-null      float64\n",
      " 31  redshift                          90 non-null     float64\n",
      " 32  redshift_lower                    90 non-null     float64\n",
      " 33  redshift_upper                    90 non-null     float64\n",
      " 34  far                               93 non-null     float64\n",
      " 35  far_lower                         0 non-null      float64\n",
      " 36  far_upper                         0 non-null      float64\n",
      " 37  p_astro                           92 non-null     float64\n",
      " 38  p_astro_lower                     0 non-null      float64\n",
      " 39  p_astro_upper                     0 non-null      float64\n",
      " 40  final_mass_source                 89 non-null     float64\n",
      " 41  final_mass_source_lower           88 non-null     float64\n",
      " 42  final_mass_source_upper           88 non-null     float64\n",
      "dtypes: float64(37), int64(1), object(5)\n",
      "memory usage: 31.4+ KB\n"
     ]
    },
    {
     "data": {
      "text/plain": [
       "(None,\n",
       "             id commonName  version catalog.shortName           GPS  \\\n",
       " 0  GW150914-v3   GW150914        3  GWTC-1-confident  1.126259e+09   \n",
       " 1  GW151012-v3   GW151012        3  GWTC-1-confident  1.128679e+09   \n",
       " 2  GW151226-v2   GW151226        2  GWTC-1-confident  1.135136e+09   \n",
       " 3  GW170104-v2   GW170104        2  GWTC-1-confident  1.167560e+09   \n",
       " 4  GW170608-v3   GW170608        3  GWTC-1-confident  1.180922e+09   \n",
       " \n",
       "                            reference  \\\n",
       " 0  https://doi.org/10.7935/82H3-HH23   \n",
       " 1  https://doi.org/10.7935/82H3-HH23   \n",
       " 2  https://doi.org/10.7935/82H3-HH23   \n",
       " 3  https://doi.org/10.7935/82H3-HH23   \n",
       " 4  https://doi.org/10.7935/82H3-HH23   \n",
       " \n",
       "                                              jsonurl  mass_1_source  \\\n",
       " 0  http://gwosc.org/eventapi/json/GWTC-1-confiden...           35.6   \n",
       " 1  http://gwosc.org/eventapi/json/GWTC-1-confiden...           23.2   \n",
       " 2  http://gwosc.org/eventapi/json/GWTC-1-confiden...           13.7   \n",
       " 3  http://gwosc.org/eventapi/json/GWTC-1-confiden...           30.8   \n",
       " 4  http://gwosc.org/eventapi/json/GWTC-1-confiden...           11.0   \n",
       " \n",
       "    mass_1_source_lower  mass_1_source_upper  ...  redshift_upper  \\\n",
       " 0                 -3.1                  4.7  ...            0.03   \n",
       " 1                 -5.5                 14.9  ...            0.09   \n",
       " 2                 -3.2                  8.8  ...            0.04   \n",
       " 3                 -5.6                  7.3  ...            0.08   \n",
       " 4                 -1.7                  5.5  ...            0.02   \n",
       " \n",
       "             far  far_lower  far_upper  p_astro  p_astro_lower  p_astro_upper  \\\n",
       " 0  1.000000e-07        NaN        NaN      1.0            NaN            NaN   \n",
       " 1  7.920000e-03        NaN        NaN      1.0            NaN            NaN   \n",
       " 2  1.000000e-07        NaN        NaN      1.0            NaN            NaN   \n",
       " 3  1.000000e-07        NaN        NaN      1.0            NaN            NaN   \n",
       " 4  1.000000e-07        NaN        NaN      1.0            NaN            NaN   \n",
       " \n",
       "    final_mass_source  final_mass_source_lower  final_mass_source_upper  \n",
       " 0               63.1                     -3.0                      3.4  \n",
       " 1               35.6                     -3.8                     10.8  \n",
       " 2               20.5                     -1.5                      6.4  \n",
       " 3               48.9                     -4.0                      5.1  \n",
       " 4               17.8                     -0.7                      3.4  \n",
       " \n",
       " [5 rows x 43 columns])"
      ]
     },
     "execution_count": 2,
     "metadata": {},
     "output_type": "execute_result"
    }
   ],
   "source": [
    "import pandas as pd\n",
    "\n",
    "df = pd.read_csv('gwosctable.csv')\n",
    "\n",
    "df.info(), df.head()\n"
   ]
  },
  {
   "cell_type": "code",
   "execution_count": 3,
   "id": "3cada2a6-90a2-4796-a68f-5f0ccbd1ba9e",
   "metadata": {},
   "outputs": [
    {
     "data": {
      "text/html": [
       "<div>\n",
       "<style scoped>\n",
       "    .dataframe tbody tr th:only-of-type {\n",
       "        vertical-align: middle;\n",
       "    }\n",
       "\n",
       "    .dataframe tbody tr th {\n",
       "        vertical-align: top;\n",
       "    }\n",
       "\n",
       "    .dataframe thead th {\n",
       "        text-align: right;\n",
       "    }\n",
       "</style>\n",
       "<table border=\"1\" class=\"dataframe\">\n",
       "  <thead>\n",
       "    <tr style=\"text-align: right;\">\n",
       "      <th></th>\n",
       "      <th>version</th>\n",
       "      <th>GPS</th>\n",
       "      <th>mass_1_source</th>\n",
       "      <th>mass_1_source_lower</th>\n",
       "      <th>mass_1_source_upper</th>\n",
       "      <th>mass_2_source</th>\n",
       "      <th>mass_2_source_lower</th>\n",
       "      <th>mass_2_source_upper</th>\n",
       "      <th>network_matched_filter_snr</th>\n",
       "      <th>network_matched_filter_snr_lower</th>\n",
       "      <th>...</th>\n",
       "      <th>redshift_upper</th>\n",
       "      <th>far</th>\n",
       "      <th>far_lower</th>\n",
       "      <th>far_upper</th>\n",
       "      <th>p_astro</th>\n",
       "      <th>p_astro_lower</th>\n",
       "      <th>p_astro_upper</th>\n",
       "      <th>final_mass_source</th>\n",
       "      <th>final_mass_source_lower</th>\n",
       "      <th>final_mass_source_upper</th>\n",
       "    </tr>\n",
       "  </thead>\n",
       "  <tbody>\n",
       "    <tr>\n",
       "      <th>count</th>\n",
       "      <td>93.000000</td>\n",
       "      <td>9.300000e+01</td>\n",
       "      <td>90.000000</td>\n",
       "      <td>90.000000</td>\n",
       "      <td>90.000000</td>\n",
       "      <td>90.000000</td>\n",
       "      <td>90.000000</td>\n",
       "      <td>90.000000</td>\n",
       "      <td>93.000000</td>\n",
       "      <td>85.000000</td>\n",
       "      <td>...</td>\n",
       "      <td>90.000000</td>\n",
       "      <td>9.300000e+01</td>\n",
       "      <td>0.0</td>\n",
       "      <td>0.0</td>\n",
       "      <td>92.000000</td>\n",
       "      <td>0.0</td>\n",
       "      <td>0.0</td>\n",
       "      <td>89.000000</td>\n",
       "      <td>88.000000</td>\n",
       "      <td>88.000000</td>\n",
       "    </tr>\n",
       "    <tr>\n",
       "      <th>mean</th>\n",
       "      <td>1.623656</td>\n",
       "      <td>1.243403e+09</td>\n",
       "      <td>35.355111</td>\n",
       "      <td>-7.931111</td>\n",
       "      <td>15.454667</td>\n",
       "      <td>21.744556</td>\n",
       "      <td>-7.049444</td>\n",
       "      <td>7.384222</td>\n",
       "      <td>12.231848</td>\n",
       "      <td>-0.535294</td>\n",
       "      <td>...</td>\n",
       "      <td>0.202333</td>\n",
       "      <td>3.309618e+00</td>\n",
       "      <td>NaN</td>\n",
       "      <td>NaN</td>\n",
       "      <td>0.906656</td>\n",
       "      <td>NaN</td>\n",
       "      <td>NaN</td>\n",
       "      <td>55.291124</td>\n",
       "      <td>-8.117273</td>\n",
       "      <td>15.152159</td>\n",
       "    </tr>\n",
       "    <tr>\n",
       "      <th>std</th>\n",
       "      <td>0.721019</td>\n",
       "      <td>3.010448e+07</td>\n",
       "      <td>20.613062</td>\n",
       "      <td>6.741347</td>\n",
       "      <td>24.257446</td>\n",
       "      <td>14.044993</td>\n",
       "      <td>6.179839</td>\n",
       "      <td>6.979778</td>\n",
       "      <td>4.889400</td>\n",
       "      <td>0.431141</td>\n",
       "      <td>...</td>\n",
       "      <td>0.237851</td>\n",
       "      <td>1.536689e+01</td>\n",
       "      <td>NaN</td>\n",
       "      <td>NaN</td>\n",
       "      <td>0.168050</td>\n",
       "      <td>NaN</td>\n",
       "      <td>NaN</td>\n",
       "      <td>31.657035</td>\n",
       "      <td>7.885601</td>\n",
       "      <td>24.881429</td>\n",
       "    </tr>\n",
       "    <tr>\n",
       "      <th>min</th>\n",
       "      <td>1.000000</td>\n",
       "      <td>1.126259e+09</td>\n",
       "      <td>1.460000</td>\n",
       "      <td>-33.000000</td>\n",
       "      <td>0.120000</td>\n",
       "      <td>1.170000</td>\n",
       "      <td>-36.500000</td>\n",
       "      <td>0.070000</td>\n",
       "      <td>4.500000</td>\n",
       "      <td>-3.000000</td>\n",
       "      <td>...</td>\n",
       "      <td>0.000000</td>\n",
       "      <td>1.000000e-07</td>\n",
       "      <td>NaN</td>\n",
       "      <td>NaN</td>\n",
       "      <td>0.121102</td>\n",
       "      <td>NaN</td>\n",
       "      <td>NaN</td>\n",
       "      <td>2.800000</td>\n",
       "      <td>-47.000000</td>\n",
       "      <td>1.300000</td>\n",
       "    </tr>\n",
       "    <tr>\n",
       "      <th>25%</th>\n",
       "      <td>1.000000</td>\n",
       "      <td>1.241816e+09</td>\n",
       "      <td>21.400000</td>\n",
       "      <td>-9.675000</td>\n",
       "      <td>5.650000</td>\n",
       "      <td>8.325000</td>\n",
       "      <td>-9.300000</td>\n",
       "      <td>2.250000</td>\n",
       "      <td>9.047895</td>\n",
       "      <td>-0.600000</td>\n",
       "      <td>...</td>\n",
       "      <td>0.062500</td>\n",
       "      <td>1.000000e-05</td>\n",
       "      <td>NaN</td>\n",
       "      <td>NaN</td>\n",
       "      <td>0.854410</td>\n",
       "      <td>NaN</td>\n",
       "      <td>NaN</td>\n",
       "      <td>32.100000</td>\n",
       "      <td>-11.000000</td>\n",
       "      <td>4.100000</td>\n",
       "    </tr>\n",
       "    <tr>\n",
       "      <th>50%</th>\n",
       "      <td>2.000000</td>\n",
       "      <td>1.251009e+09</td>\n",
       "      <td>35.500000</td>\n",
       "      <td>-6.000000</td>\n",
       "      <td>9.550000</td>\n",
       "      <td>23.550000</td>\n",
       "      <td>-5.900000</td>\n",
       "      <td>5.350000</td>\n",
       "      <td>10.800000</td>\n",
       "      <td>-0.400000</td>\n",
       "      <td>...</td>\n",
       "      <td>0.115000</td>\n",
       "      <td>1.300000e-03</td>\n",
       "      <td>NaN</td>\n",
       "      <td>NaN</td>\n",
       "      <td>0.990000</td>\n",
       "      <td>NaN</td>\n",
       "      <td>NaN</td>\n",
       "      <td>56.300000</td>\n",
       "      <td>-6.500000</td>\n",
       "      <td>8.600000</td>\n",
       "    </tr>\n",
       "    <tr>\n",
       "      <th>75%</th>\n",
       "      <td>2.000000</td>\n",
       "      <td>1.260808e+09</td>\n",
       "      <td>43.100000</td>\n",
       "      <td>-3.125000</td>\n",
       "      <td>14.700000</td>\n",
       "      <td>29.000000</td>\n",
       "      <td>-2.425000</td>\n",
       "      <td>9.450000</td>\n",
       "      <td>13.200000</td>\n",
       "      <td>-0.300000</td>\n",
       "      <td>...</td>\n",
       "      <td>0.260000</td>\n",
       "      <td>4.600000e-01</td>\n",
       "      <td>NaN</td>\n",
       "      <td>NaN</td>\n",
       "      <td>1.000000</td>\n",
       "      <td>NaN</td>\n",
       "      <td>NaN</td>\n",
       "      <td>70.500000</td>\n",
       "      <td>-2.775000</td>\n",
       "      <td>16.025000</td>\n",
       "    </tr>\n",
       "    <tr>\n",
       "      <th>max</th>\n",
       "      <td>4.000000</td>\n",
       "      <td>1.268904e+09</td>\n",
       "      <td>105.500000</td>\n",
       "      <td>-0.100000</td>\n",
       "      <td>166.000000</td>\n",
       "      <td>76.000000</td>\n",
       "      <td>-0.060000</td>\n",
       "      <td>36.000000</td>\n",
       "      <td>33.000000</td>\n",
       "      <td>-0.200000</td>\n",
       "      <td>...</td>\n",
       "      <td>1.470000</td>\n",
       "      <td>1.400000e+02</td>\n",
       "      <td>NaN</td>\n",
       "      <td>NaN</td>\n",
       "      <td>1.000000</td>\n",
       "      <td>NaN</td>\n",
       "      <td>NaN</td>\n",
       "      <td>172.900000</td>\n",
       "      <td>-0.660000</td>\n",
       "      <td>169.000000</td>\n",
       "    </tr>\n",
       "  </tbody>\n",
       "</table>\n",
       "<p>8 rows × 38 columns</p>\n",
       "</div>"
      ],
      "text/plain": [
       "         version           GPS  mass_1_source  mass_1_source_lower  \\\n",
       "count  93.000000  9.300000e+01      90.000000            90.000000   \n",
       "mean    1.623656  1.243403e+09      35.355111            -7.931111   \n",
       "std     0.721019  3.010448e+07      20.613062             6.741347   \n",
       "min     1.000000  1.126259e+09       1.460000           -33.000000   \n",
       "25%     1.000000  1.241816e+09      21.400000            -9.675000   \n",
       "50%     2.000000  1.251009e+09      35.500000            -6.000000   \n",
       "75%     2.000000  1.260808e+09      43.100000            -3.125000   \n",
       "max     4.000000  1.268904e+09     105.500000            -0.100000   \n",
       "\n",
       "       mass_1_source_upper  mass_2_source  mass_2_source_lower  \\\n",
       "count            90.000000      90.000000            90.000000   \n",
       "mean             15.454667      21.744556            -7.049444   \n",
       "std              24.257446      14.044993             6.179839   \n",
       "min               0.120000       1.170000           -36.500000   \n",
       "25%               5.650000       8.325000            -9.300000   \n",
       "50%               9.550000      23.550000            -5.900000   \n",
       "75%              14.700000      29.000000            -2.425000   \n",
       "max             166.000000      76.000000            -0.060000   \n",
       "\n",
       "       mass_2_source_upper  network_matched_filter_snr  \\\n",
       "count            90.000000                   93.000000   \n",
       "mean              7.384222                   12.231848   \n",
       "std               6.979778                    4.889400   \n",
       "min               0.070000                    4.500000   \n",
       "25%               2.250000                    9.047895   \n",
       "50%               5.350000                   10.800000   \n",
       "75%               9.450000                   13.200000   \n",
       "max              36.000000                   33.000000   \n",
       "\n",
       "       network_matched_filter_snr_lower  ...  redshift_upper           far  \\\n",
       "count                         85.000000  ...       90.000000  9.300000e+01   \n",
       "mean                          -0.535294  ...        0.202333  3.309618e+00   \n",
       "std                            0.431141  ...        0.237851  1.536689e+01   \n",
       "min                           -3.000000  ...        0.000000  1.000000e-07   \n",
       "25%                           -0.600000  ...        0.062500  1.000000e-05   \n",
       "50%                           -0.400000  ...        0.115000  1.300000e-03   \n",
       "75%                           -0.300000  ...        0.260000  4.600000e-01   \n",
       "max                           -0.200000  ...        1.470000  1.400000e+02   \n",
       "\n",
       "       far_lower  far_upper    p_astro  p_astro_lower  p_astro_upper  \\\n",
       "count        0.0        0.0  92.000000            0.0            0.0   \n",
       "mean         NaN        NaN   0.906656            NaN            NaN   \n",
       "std          NaN        NaN   0.168050            NaN            NaN   \n",
       "min          NaN        NaN   0.121102            NaN            NaN   \n",
       "25%          NaN        NaN   0.854410            NaN            NaN   \n",
       "50%          NaN        NaN   0.990000            NaN            NaN   \n",
       "75%          NaN        NaN   1.000000            NaN            NaN   \n",
       "max          NaN        NaN   1.000000            NaN            NaN   \n",
       "\n",
       "       final_mass_source  final_mass_source_lower  final_mass_source_upper  \n",
       "count          89.000000                88.000000                88.000000  \n",
       "mean           55.291124                -8.117273                15.152159  \n",
       "std            31.657035                 7.885601                24.881429  \n",
       "min             2.800000               -47.000000                 1.300000  \n",
       "25%            32.100000               -11.000000                 4.100000  \n",
       "50%            56.300000                -6.500000                 8.600000  \n",
       "75%            70.500000                -2.775000                16.025000  \n",
       "max           172.900000                -0.660000               169.000000  \n",
       "\n",
       "[8 rows x 38 columns]"
      ]
     },
     "execution_count": 3,
     "metadata": {},
     "output_type": "execute_result"
    }
   ],
   "source": [
    "df.describe()"
   ]
  },
  {
   "cell_type": "code",
   "execution_count": 4,
   "id": "cac701d4-99c1-4830-b1e3-a276939d2d8a",
   "metadata": {},
   "outputs": [
    {
     "data": {
      "text/plain": [
       "id                                   0\n",
       "commonName                           0\n",
       "version                              0\n",
       "catalog.shortName                    0\n",
       "GPS                                  0\n",
       "reference                            0\n",
       "jsonurl                              0\n",
       "mass_1_source                        3\n",
       "mass_1_source_lower                  3\n",
       "mass_1_source_upper                  3\n",
       "mass_2_source                        3\n",
       "mass_2_source_lower                  3\n",
       "mass_2_source_upper                  3\n",
       "network_matched_filter_snr           0\n",
       "network_matched_filter_snr_lower     8\n",
       "network_matched_filter_snr_upper     8\n",
       "luminosity_distance                  3\n",
       "luminosity_distance_lower            3\n",
       "luminosity_distance_upper            3\n",
       "chi_eff                              3\n",
       "chi_eff_lower                        3\n",
       "chi_eff_upper                        3\n",
       "total_mass_source                   14\n",
       "total_mass_source_lower             14\n",
       "total_mass_source_upper             14\n",
       "chirp_mass_source                    3\n",
       "chirp_mass_source_lower              3\n",
       "chirp_mass_source_upper              3\n",
       "chirp_mass                          93\n",
       "chirp_mass_lower                    93\n",
       "chirp_mass_upper                    93\n",
       "redshift                             3\n",
       "redshift_lower                       3\n",
       "redshift_upper                       3\n",
       "far                                  0\n",
       "far_lower                           93\n",
       "far_upper                           93\n",
       "p_astro                              1\n",
       "p_astro_lower                       93\n",
       "p_astro_upper                       93\n",
       "final_mass_source                    4\n",
       "final_mass_source_lower              5\n",
       "final_mass_source_upper              5\n",
       "dtype: int64"
      ]
     },
     "execution_count": 4,
     "metadata": {},
     "output_type": "execute_result"
    }
   ],
   "source": [
    "df.isnull().sum()"
   ]
  },
  {
   "cell_type": "markdown",
   "id": "489d7da8-7fd1-4e19-af19-465b1be7d43e",
   "metadata": {},
   "source": [
    "First we will define the classification criteria for BBH , BHNS , BNS based on their mass.\n",
    "* $$ BBH : Both-masses > 3M\\odot$$\n",
    "* $$ BHNS : m1 < 3M\\odot , m2 > 3M\\odot$$\n",
    "* $$ BNS : Both-masses < 3M\\odot$$"
   ]
  },
  {
   "cell_type": "code",
   "execution_count": 5,
   "id": "608e7cf7-d131-49bf-9c3f-5ae2090ee8d5",
   "metadata": {},
   "outputs": [
    {
     "data": {
      "text/plain": [
       "event_type\n",
       "BBH        83\n",
       "NSBH        5\n",
       "Unknown     3\n",
       "BNS         2\n",
       "Name: count, dtype: int64"
      ]
     },
     "execution_count": 5,
     "metadata": {},
     "output_type": "execute_result"
    }
   ],
   "source": [
    "\n",
    "def classify_event(row):\n",
    "    m1, m2 = row['mass_1_source'], row['mass_2_source']\n",
    "    if m1 > 3 and m2 > 3:\n",
    "        return 'BBH'  # Binary Black Hole\n",
    "    elif (m1 < 3 and m2 > 3) or (m1 > 3 and m2 < 3):\n",
    "        return 'NSBH'  # Neutron Star-Black Hole\n",
    "    elif m1 < 3 and m2 < 3:\n",
    "        return 'BNS'  # Binary Neutron Star\n",
    "    else:\n",
    "        return 'Unknown'\n",
    "\n",
    "\n",
    "df['event_type'] = df.apply(classify_event, axis=1)\n",
    "\n",
    "\n",
    "df['event_type'].value_counts()\n"
   ]
  },
  {
   "cell_type": "code",
   "execution_count": 6,
   "id": "52d44386-c2c9-4a20-b56d-fa5f5dcdb5ec",
   "metadata": {},
   "outputs": [],
   "source": [
    "from sklearn.preprocessing import StandardScaler, LabelEncoder\n",
    "from sklearn.ensemble import RandomForestClassifier\n",
    "from sklearn.metrics import confusion_matrix, accuracy_score,classification_report"
   ]
  },
  {
   "cell_type": "code",
   "execution_count": 7,
   "id": "122da339-e064-4974-bc5b-1f05fd9da152",
   "metadata": {},
   "outputs": [],
   "source": [
    "df = df[df['event_type'] != 'Unknown'] #dropping unknown events"
   ]
  },
  {
   "cell_type": "code",
   "execution_count": 12,
   "id": "875fdcfc-a693-4e3d-9726-331a5e3e2e5c",
   "metadata": {},
   "outputs": [],
   "source": [
    "features = [\"mass_1_source\", \"mass_2_source\", \"chirp_mass_source\", \"total_mass_source\", \n",
    "            \"network_matched_filter_snr\", \"luminosity_distance\", \"chi_eff\", \"redshift\"]"
   ]
  },
  {
   "cell_type": "code",
   "execution_count": 13,
   "id": "8e860bfc-4abc-4b90-8179-a91a83d74d25",
   "metadata": {},
   "outputs": [],
   "source": [
    "X= df[features].fillna(df[features].median())\n",
    "\n",
    "label_encoder =LabelEncoder()\n",
    "y = label_encoder.fit_transform(df['event_type'])"
   ]
  },
  {
   "cell_type": "code",
   "execution_count": 16,
   "id": "de66f18a-799e-4b0d-9a41-1fb58175abb6",
   "metadata": {},
   "outputs": [
    {
     "data": {
      "text/plain": [
       "array([0, 0, 0, 0, 0, 0, 0, 0, 1, 0, 0, 0, 0, 0, 0, 0, 0, 1, 0, 0, 0, 0,\n",
       "       0, 0, 0, 0, 0, 0, 0, 0, 0, 0, 0, 0, 0, 0, 0, 0, 0, 0, 0, 0, 0, 2,\n",
       "       0, 0, 0, 0, 0, 2, 0, 0, 0, 0, 0, 0, 0, 0, 0, 0, 0, 0, 0, 0, 0, 0,\n",
       "       2, 0, 0, 0, 2, 0, 0, 0, 0, 0, 0, 2, 0, 0, 0, 0, 0, 0, 0, 0, 0, 0,\n",
       "       0, 0])"
      ]
     },
     "execution_count": 16,
     "metadata": {},
     "output_type": "execute_result"
    }
   ],
   "source": [
    "y"
   ]
  },
  {
   "cell_type": "code",
   "execution_count": 40,
   "id": "5debe307-30b7-4c55-b028-ff8cd1366429",
   "metadata": {},
   "outputs": [],
   "source": [
    "from imblearn.over_sampling import RandomOverSampler\n",
    "X_train, X_test, y_train, y_test = train_test_split(X, y, test_size=0.3, stratify=y)\n",
    "class_counts_before = np.bincount(y_train)"
   ]
  },
  {
   "cell_type": "code",
   "execution_count": 41,
   "id": "a84e995f-3cdc-42f7-8088-f0fb975fd453",
   "metadata": {},
   "outputs": [],
   "source": [
    "# Apply Random Over-Sampling\n",
    "ros = RandomOverSampler()\n",
    "X_train_ros, y_train_ros = ros.fit_resample(X_train, y_train)\n",
    "class_counts_after = np.bincount(y_train_ros)"
   ]
  },
  {
   "cell_type": "code",
   "execution_count": 42,
   "id": "b8373aed-2519-4a6a-af13-537ff4d6c799",
   "metadata": {},
   "outputs": [
    {
     "data": {
      "image/png": "[encoded data removed]",
      "text/plain": [
       "<Figure size 1200x500 with 2 Axes>"
      ]
     },
     "metadata": {},
     "output_type": "display_data"
    }
   ],
   "source": [
    "# Plot class distributions\n",
    "fig, ax = plt.subplots(1, 2, figsize=(12, 5))\n",
    "ax[0].bar([\"BBH\", \"BHNS\", \"BNS\"], class_counts_before, color=['blue', 'green', 'red'])\n",
    "ax[0].set_title(\"Class Distribution Before Oversampling\")\n",
    "ax[0].set_ylabel(\"Count\")\n",
    "\n",
    "ax[1].bar([\"BBH\", \"BHNS\", \"BNS\"], class_counts_after, color=['blue', 'green', 'red'])\n",
    "ax[1].set_title(\"Class Distribution After Oversampling\")\n",
    "\n",
    "plt.show()"
   ]
  },
  {
   "cell_type": "code",
   "execution_count": 28,
   "id": "2dce514c-048a-4a94-9e88-a6f7e5525f5e",
   "metadata": {},
   "outputs": [
    {
     "data": {
      "text/plain": [
       "array([58, 58, 58], dtype=int64)"
      ]
     },
     "execution_count": 28,
     "metadata": {},
     "output_type": "execute_result"
    }
   ],
   "source": [
    "np.bincount(y_train_ros)"
   ]
  },
  {
   "cell_type": "code",
   "execution_count": 31,
   "id": "71b8fb14-7d0f-4667-b560-5660439244b9",
   "metadata": {},
   "outputs": [
    {
     "name": "stdout",
     "output_type": "stream",
     "text": [
      "Collecting xgboost\n",
      "  Using cached xgboost-2.1.4-py3-none-win_amd64.whl.metadata (2.1 kB)\n",
      "Requirement already satisfied: numpy in d:\\ana installer\\lib\\site-packages (from xgboost) (1.26.4)\n",
      "Requirement already satisfied: scipy in d:\\ana installer\\lib\\site-packages (from xgboost) (1.13.1)\n",
      "Using cached xgboost-2.1.4-py3-none-win_amd64.whl (124.9 MB)\n",
      "Installing collected packages: xgboost\n",
      "Successfully installed xgboost-2.1.4\n"
     ]
    }
   ],
   "source": [
    "!pip install xgboost\n",
    "from sklearn.ensemble import AdaBoostClassifier, GradientBoostingClassifier, RandomForestClassifier\n",
    "from sklearn.linear_model import LogisticRegression\n",
    "from xgboost import XGBClassifier\n",
    "from sklearn.metrics import classification_report, accuracy_score\n"
   ]
  },
  {
   "cell_type": "code",
   "execution_count": 32,
   "id": "14f395fb-4696-4dea-9972-c79434fcd523",
   "metadata": {},
   "outputs": [],
   "source": [
    "# Define classifiers\n",
    "models = {\n",
    "    \"AdaBoost\": AdaBoostClassifier(random_state=42),\n",
    "    \"XGBoost\": XGBClassifier(use_label_encoder=False, eval_metric=\"mlogloss\", random_state=42),\n",
    "    \"Gradient Boost\": GradientBoostingClassifier(random_state=42),\n",
    "    \"Logistic Regression\": LogisticRegression(max_iter=500, random_state=42),\n",
    "    \"Random Forest\": RandomForestClassifier(random_state=42)\n",
    "}"
   ]
  },
  {
   "cell_type": "code",
   "execution_count": 33,
   "id": "772356a8-b561-4e8c-9e89-381484cd5694",
   "metadata": {},
   "outputs": [
    {
     "name": "stderr",
     "output_type": "stream",
     "text": [
      "D:\\Ana installer\\Lib\\site-packages\\sklearn\\ensemble\\_weight_boosting.py:527: FutureWarning: The SAMME.R algorithm (the default) is deprecated and will be removed in 1.6. Use the SAMME algorithm to circumvent this warning.\n",
      "  warnings.warn(\n"
     ]
    },
    {
     "name": "stdout",
     "output_type": "stream",
     "text": [
      "=== AdaBoost ===\n",
      "              precision    recall  f1-score   support\n",
      "\n",
      "         BBH       1.00      1.00      1.00        25\n",
      "         BNS       1.00      1.00      1.00         1\n",
      "        NSBH       1.00      1.00      1.00         1\n",
      "\n",
      "    accuracy                           1.00        27\n",
      "   macro avg       1.00      1.00      1.00        27\n",
      "weighted avg       1.00      1.00      1.00        27\n",
      "\n",
      "\n",
      "\n",
      "=== XGBoost ===\n",
      "              precision    recall  f1-score   support\n",
      "\n",
      "         BBH       1.00      1.00      1.00        25\n",
      "         BNS       1.00      1.00      1.00         1\n",
      "        NSBH       1.00      1.00      1.00         1\n",
      "\n",
      "    accuracy                           1.00        27\n",
      "   macro avg       1.00      1.00      1.00        27\n",
      "weighted avg       1.00      1.00      1.00        27\n",
      "\n",
      "\n",
      "\n"
     ]
    },
    {
     "name": "stderr",
     "output_type": "stream",
     "text": [
      "D:\\Ana installer\\Lib\\site-packages\\xgboost\\core.py:158: UserWarning: [19:55:35] WARNING: C:\\buildkite-agent\\builds\\buildkite-windows-cpu-autoscaling-group-i-08cbc0333d8d4aae1-1\\xgboost\\xgboost-ci-windows\\src\\learner.cc:740: \n",
      "Parameters: { \"use_label_encoder\" } are not used.\n",
      "\n",
      "  warnings.warn(smsg, UserWarning)\n"
     ]
    },
    {
     "name": "stdout",
     "output_type": "stream",
     "text": [
      "=== Gradient Boost ===\n",
      "              precision    recall  f1-score   support\n",
      "\n",
      "         BBH       1.00      1.00      1.00        25\n",
      "         BNS       0.00      0.00      0.00         1\n",
      "        NSBH       0.00      0.00      0.00         1\n",
      "\n",
      "    accuracy                           0.93        27\n",
      "   macro avg       0.33      0.33      0.33        27\n",
      "weighted avg       0.93      0.93      0.93        27\n",
      "\n",
      "\n",
      "\n"
     ]
    },
    {
     "name": "stderr",
     "output_type": "stream",
     "text": [
      "D:\\Ana installer\\Lib\\site-packages\\sklearn\\linear_model\\_logistic.py:469: ConvergenceWarning: lbfgs failed to converge (status=1):\n",
      "STOP: TOTAL NO. of ITERATIONS REACHED LIMIT.\n",
      "\n",
      "Increase the number of iterations (max_iter) or scale the data as shown in:\n",
      "    https://scikit-learn.org/stable/modules/preprocessing.html\n",
      "Please also refer to the documentation for alternative solver options:\n",
      "    https://scikit-learn.org/stable/modules/linear_model.html#logistic-regression\n",
      "  n_iter_i = _check_optimize_result(\n",
      "D:\\Ana installer\\Lib\\site-packages\\sklearn\\metrics\\_classification.py:1531: UndefinedMetricWarning: Precision is ill-defined and being set to 0.0 in labels with no predicted samples. Use `zero_division` parameter to control this behavior.\n",
      "  _warn_prf(average, modifier, f\"{metric.capitalize()} is\", len(result))\n",
      "D:\\Ana installer\\Lib\\site-packages\\sklearn\\metrics\\_classification.py:1531: UndefinedMetricWarning: Precision is ill-defined and being set to 0.0 in labels with no predicted samples. Use `zero_division` parameter to control this behavior.\n",
      "  _warn_prf(average, modifier, f\"{metric.capitalize()} is\", len(result))\n",
      "D:\\Ana installer\\Lib\\site-packages\\sklearn\\metrics\\_classification.py:1531: UndefinedMetricWarning: Precision is ill-defined and being set to 0.0 in labels with no predicted samples. Use `zero_division` parameter to control this behavior.\n",
      "  _warn_prf(average, modifier, f\"{metric.capitalize()} is\", len(result))\n"
     ]
    },
    {
     "name": "stdout",
     "output_type": "stream",
     "text": [
      "=== Logistic Regression ===\n",
      "              precision    recall  f1-score   support\n",
      "\n",
      "         BBH       0.96      1.00      0.98        25\n",
      "         BNS       0.00      0.00      0.00         1\n",
      "        NSBH       1.00      1.00      1.00         1\n",
      "\n",
      "    accuracy                           0.96        27\n",
      "   macro avg       0.65      0.67      0.66        27\n",
      "weighted avg       0.93      0.96      0.94        27\n",
      "\n",
      "\n",
      "\n",
      "=== Random Forest ===\n",
      "              precision    recall  f1-score   support\n",
      "\n",
      "         BBH       1.00      1.00      1.00        25\n",
      "         BNS       1.00      1.00      1.00         1\n",
      "        NSBH       1.00      1.00      1.00         1\n",
      "\n",
      "    accuracy                           1.00        27\n",
      "   macro avg       1.00      1.00      1.00        27\n",
      "weighted avg       1.00      1.00      1.00        27\n",
      "\n",
      "\n",
      "\n"
     ]
    }
   ],
   "source": [
    "# Train and evaluate models\n",
    "results = {}\n",
    "for name, model in models.items():\n",
    "    model.fit(X_train_ros, y_train_ros)\n",
    "    y_pred = model.predict(X_test)\n",
    "    acc = accuracy_score(y_test, y_pred)\n",
    "    results[name] = acc\n",
    "    print(f\"=== {name} ===\")\n",
    "    print(classification_report(y_test, y_pred, target_names=label_encoder.classes_))\n",
    "    print(\"\\n\")"
   ]
  },
  {
   "cell_type": "code",
   "execution_count": 39,
   "id": "8f2414b7-2a83-4652-b6f4-404a6231f9df",
   "metadata": {},
   "outputs": [
    {
     "data": {
      "image/png": "[encoded data removed]",
      "text/plain": [
       "<Figure size 800x500 with 1 Axes>"
      ]
     },
     "metadata": {},
     "output_type": "display_data"
    }
   ],
   "source": [
    "# Plot model comparison\n",
    "plt.figure(figsize=(8,5))\n",
    "plt.bar(results.keys(), results.values(), color=['blue', 'green', 'red', 'purple', 'orange'])\n",
    "plt.ylabel(\"Accuracy\")\n",
    "plt.title(\"Model Comparison on BBH, BHNS, BNS Classification\")\n",
    "plt.ylim(0, 1)\n",
    "plt.show()"
   ]
  },
  {
   "cell_type": "code",
   "execution_count": 49,
   "id": "ed95bd10-d3bd-4246-bbf8-5af869cfcb40",
   "metadata": {},
   "outputs": [
    {
     "name": "stderr",
     "output_type": "stream",
     "text": [
      "D:\\Ana installer\\Lib\\site-packages\\sklearn\\ensemble\\_weight_boosting.py:527: FutureWarning: The SAMME.R algorithm (the default) is deprecated and will be removed in 1.6. Use the SAMME algorithm to circumvent this warning.\n",
      "  warnings.warn(\n",
      "C:\\Users\\Admin\\AppData\\Local\\Temp\\ipykernel_1156\\1135281767.py:47: UserWarning: set_ticklabels() should only be used with a fixed number of ticks, i.e. after set_ticks() or using a FixedLocator.\n",
      "  axes[i].set_xticklabels(results_df[\"Model\"], rotation=45)\n",
      "C:\\Users\\Admin\\AppData\\Local\\Temp\\ipykernel_1156\\1135281767.py:47: UserWarning: set_ticklabels() should only be used with a fixed number of ticks, i.e. after set_ticks() or using a FixedLocator.\n",
      "  axes[i].set_xticklabels(results_df[\"Model\"], rotation=45)\n",
      "C:\\Users\\Admin\\AppData\\Local\\Temp\\ipykernel_1156\\1135281767.py:47: UserWarning: set_ticklabels() should only be used with a fixed number of ticks, i.e. after set_ticks() or using a FixedLocator.\n",
      "  axes[i].set_xticklabels(results_df[\"Model\"], rotation=45)\n",
      "C:\\Users\\Admin\\AppData\\Local\\Temp\\ipykernel_1156\\1135281767.py:47: UserWarning: set_ticklabels() should only be used with a fixed number of ticks, i.e. after set_ticks() or using a FixedLocator.\n",
      "  axes[i].set_xticklabels(results_df[\"Model\"], rotation=45)\n"
     ]
    },
    {
     "data": {
      "image/png": "[encoded data removed]",
      "text/plain": [
       "<Figure size 2000x500 with 4 Axes>"
      ]
     },
     "metadata": {},
     "output_type": "display_data"
    },
    {
     "data": {
      "image/png": "[encoded data removed]",
      "text/plain": [
       "<Figure size 2000x500 with 8 Axes>"
      ]
     },
     "metadata": {},
     "output_type": "display_data"
    }
   ],
   "source": [
    "from sklearn.metrics import precision_score, recall_score, f1_score\n",
    "\n",
    "\n",
    "# Initialize results dictionary\n",
    "results = {\n",
    "    \"Model\": [],\n",
    "    \"Accuracy\": [],\n",
    "    \"Precision\": [],\n",
    "    \"Recall\": [],\n",
    "    \"F1-Score\": []\n",
    "}\n",
    "\n",
    "# Train and evaluate models\n",
    "conf_matrices = {}\n",
    "for name, model in models.items():\n",
    "    model.fit(X_train_ros, y_train_ros)\n",
    "    y_pred = model.predict(X_test)\n",
    "    \n",
    "    # Compute metrics\n",
    "    acc = accuracy_score(y_test, y_pred)\n",
    "    prec = precision_score(y_test, y_pred, average='weighted', zero_division=0)\n",
    "    rec = recall_score(y_test, y_pred, average='weighted', zero_division=0)\n",
    "    f1 = f1_score(y_test, y_pred, average='weighted', zero_division=0)\n",
    "    \n",
    "    # Store results\n",
    "    results[\"Model\"].append(name)\n",
    "    results[\"Accuracy\"].append(acc)\n",
    "    results[\"Precision\"].append(prec)\n",
    "    results[\"Recall\"].append(rec)\n",
    "    results[\"F1-Score\"].append(f1)\n",
    "\n",
    "    # Compute confusion matrix\n",
    "    conf_matrices[name] = confusion_matrix(y_test, y_pred)\n",
    "\n",
    "#Convert results to DataFrame\n",
    "results_df = pd.DataFrame(results)\n",
    "\n",
    "#metrics\n",
    "fig, axes = plt.subplots(1, 4, figsize=(20, 5))\n",
    "metrics = [\"Accuracy\", \"Precision\", \"Recall\", \"F1-Score\"]\n",
    "colors = ['blue', 'green', 'red', 'purple','yellow']\n",
    "\n",
    "for i, metric in enumerate(metrics):\n",
    "    axes[i].bar(results_df[\"Model\"], results_df[metric], color=colors[i])\n",
    "    axes[i].set_title(metrics)\n",
    "    axes[i].set_ylim(0, 1)\n",
    "    axes[i].set_xticklabels(results_df[\"Model\"], rotation=45)\n",
    "\n",
    "plt.suptitle(\"Model Performance Comparison\")\n",
    "plt.show()\n",
    "\n",
    "# Plot confusion matrices\n",
    "fig, axes = plt.subplots(1, len(models), figsize=(20, 5))\n",
    "for i, (name, matrix) in enumerate(conf_matrices.items()):\n",
    "    sns.heatmap(matrix, annot=True, fmt=\"d\", cmap=\"Blues\", xticklabels=label_encoder.classes_, yticklabels=label_encoder.classes_, ax=axes[i])\n",
    "    axes[i].set_title(f\"{name} Confusion Matrix\")\n",
    "    axes[i].set_xlabel(\"Predicted\")\n",
    "    axes[i].set_ylabel(\"Actual\")\n",
    "\n",
    "plt.suptitle(\"Confusion Matrices for Models\")\n",
    "plt.show()\n"
   ]
  },
  {
   "cell_type": "code",
   "execution_count": null,
   "id": "086dbc76-f065-4deb-9375-70fb2286fe5c",
   "metadata": {},
   "outputs": [],
   "source": []
  },
  {
   "cell_type": "code",
   "execution_count": null,
   "id": "4848a4af-101b-4b14-b8dd-557172c7a7a4",
   "metadata": {},
   "outputs": [],
   "source": []
  },
  {
   "cell_type": "code",
   "execution_count": null,
   "id": "0bd54a22-8f9c-40bf-b92e-a25e0d644f82",
   "metadata": {},
   "outputs": [],
   "source": []
  },
  {
   "cell_type": "code",
   "execution_count": null,
   "id": "77c2e179-2859-4a63-a9a2-7e2f0647b77e",
   "metadata": {},
   "outputs": [],
   "source": []
  },
  {
   "cell_type": "code",
   "execution_count": null,
   "id": "cda6dfea-05ae-4eeb-b20b-e6aac9d6c2da",
   "metadata": {},
   "outputs": [],
   "source": []
  },
  {
   "cell_type": "code",
   "execution_count": null,
   "id": "f1931130-94d0-4b02-8aa3-9fc36778f4b4",
   "metadata": {},
   "outputs": [],
   "source": []
  },
  {
   "cell_type": "code",
   "execution_count": null,
   "id": "5ce71b9c-e492-4469-9013-fbbd4a8be817",
   "metadata": {},
   "outputs": [],
   "source": []
  },
  {
   "cell_type": "code",
   "execution_count": null,
   "id": "107be3ef-8dbc-4c0d-8aed-cfc874f98f23",
   "metadata": {},
   "outputs": [],
   "source": []
  }
 ],
 "metadata": {
  "kernelspec": {
   "display_name": "Python 3 (ipykernel)",
   "language": "python",
   "name": "python3"
  },
  "language_info": {
   "codemirror_mode": {
    "name": "ipython",
    "version": 3
   },
   "file_extension": ".py",
   "mimetype": "text/x-python",
   "name": "python",
   "nbconvert_exporter": "python",
   "pygments_lexer": "ipython3",
   "version": "3.12.7"
  }
 },
 "nbformat": 4,
 "nbformat_minor": 5
}
